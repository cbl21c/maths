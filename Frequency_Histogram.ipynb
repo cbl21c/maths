{
 "cells": [
  {
   "cell_type": "code",
   "execution_count": 5,
   "id": "78ccb0b0",
   "metadata": {},
   "outputs": [
    {
     "data": {
      "image/png": "[encoded data removed]",
      "text/plain": [
       "<Figure size 640x480 with 1 Axes>"
      ]
     },
     "metadata": {},
     "output_type": "display_data"
    }
   ],
   "source": [
    "import sys\n",
    "import numpy as np\n",
    "import matplotlib.pyplot as plt\n",
    "# if using a Jupyter notebook, include:\n",
    "%matplotlib inline\n",
    "\n",
    "# Ex 9I: Q5 - 60 Y9 students science exam marks\n",
    "dataset = [\n",
    "50, 67, 68, 89, 82, 81, 50, 50, 89, 52, 60, 82, 52, 60, 87, 89, 71, 73, 75, 83,\n",
    "86, 50, 52, 71, 80, 95, 87, 87, 87, 74, 60, 60, 61, 63, 63, 65, 82, 86, 96, 88,\n",
    "50, 94, 87, 64, 64, 72, 71, 72, 88, 86, 89, 69, 71, 80, 89, 92, 89, 89, 60, 83    \n",
    "]\n",
    "plt.hist(dataset, bins=[50, 60, 70, 80, 90, 100], ec='k', color='w')\n",
    "plt.xlabel('Score')\n",
    "plt.ylabel('Frequency')\n",
    "plt.show()\n"
   ]
  },
  {
   "cell_type": "code",
   "execution_count": 8,
   "id": "5691b185",
   "metadata": {},
   "outputs": [
    {
     "name": "stdout",
     "output_type": "stream",
     "text": [
      "\n",
      "5 | 0 0 0 0 0 2 2 2 \n",
      "6 | 0 0 0 0 0 1 3 3 4 4 5 7 8 9 \n",
      "7 | 1 1 1 1 2 2 3 4 5 \n",
      "8 | 0 0 1 2 2 2 3 3 6 6 6 7 7 7 7 7 8 8 9 9 9 9 9 9 9 \n",
      "9 | 2 4 5 6 \n",
      "\n"
     ]
    },
    {
     "data": {
      "text/plain": [
       "1"
      ]
     },
     "execution_count": 8,
     "metadata": {},
     "output_type": "execute_result"
    }
   ],
   "source": [
    "# sort the list\n",
    "dataset.sort()\n",
    "\n",
    "low  = int(dataset[0] / 10)\n",
    "high = int(dataset[-1] / 10)\n",
    "\n",
    "lastStem = None\n",
    "stemList = range(low, high + 1)\n",
    "leafList = [None] * (high + 1)\n",
    "for n in range(low, high + 1):\n",
    "    leafList[n] = []\n",
    "for d in dataset:\n",
    "    stem = int(d / 10)\n",
    "    leaf = d % 10\n",
    "    leafList[stem].append(leaf)\n",
    "\n",
    "for s in stemList:\n",
    "    sys.stdout.write('{0} | '.format(s))\n",
    "\n",
    "    for l in leafList[s]:\n",
    "        sys.stdout.write('{0} '.format(l))\n",
    "    sys.stdout.write('\\n')\n"
   ]
  },
  {
   "cell_type": "code",
   "execution_count": null,
   "id": "843ba0b1",
   "metadata": {},
   "outputs": [],
   "source": []
  }
 ],
 "metadata": {
  "kernelspec": {
   "display_name": "Python 3 (ipykernel)",
   "language": "python",
   "name": "python3"
  },
  "language_info": {
   "codemirror_mode": {
    "name": "ipython",
    "version": 3
   },
   "file_extension": ".py",
   "mimetype": "text/x-python",
   "name": "python",
   "nbconvert_exporter": "python",
   "pygments_lexer": "ipython3",
   "version": "3.10.9"
  }
 },
 "nbformat": 4,
 "nbformat_minor": 5
}
